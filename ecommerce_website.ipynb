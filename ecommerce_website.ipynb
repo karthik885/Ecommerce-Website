{
  "nbformat": 4,
  "nbformat_minor": 0,
  "metadata": {
    "colab": {
      "provenance": []
    },
    "kernelspec": {
      "name": "python3",
      "display_name": "Python 3"
    },
    "language_info": {
      "name": "python"
    }
  },
  "cells": [
    {
      "cell_type": "code",
      "execution_count": null,
      "metadata": {
        "id": "HDy82K4ujLMB"
      },
      "outputs": [],
      "source": [
        "user_id,product_id,category\n",
        "1,101,Electronics\n",
        "1,102,Electronics\n",
        "2,103,Clothing\n",
        "2,104,Clothing\n",
        "3,105,Home\n",
        "3,106,Home\n"
      ]
    },
    {
      "cell_type": "code",
      "source": [
        "import pandas as pd\n",
        "import numpy as np\n",
        "import sys\n",
        "from sklearn.neighbors import NearestNeighbors\n",
        "import joblib\n",
        "\n",
        "# Load dataset\n",
        "df = pd.read_csv(\"purchase_history.csv\")\n",
        "\n",
        "# Convert categorical data to numerical\n",
        "df[\"category\"] = df[\"category\"].astype(\"category\").cat.codes\n",
        "\n",
        "# Pivot table for user-product interaction\n",
        "user_product_matrix = df.pivot_table(index=\"user_id\", columns=\"product_id\", values=\"category\", fill_value=0)\n",
        "\n",
        "# Train KNN model\n",
        "model = NearestNeighbors(metric=\"cosine\", algorithm=\"brute\")\n",
        "model.fit(user_product_matrix)\n",
        "\n",
        "# Save model\n",
        "joblib.dump(model, \"knn_model.pkl\")\n",
        "\n",
        "# Function to recommend products\n",
        "def recommend_products(user_id):\n",
        "    user_index = df[df[\"user_id\"] == int(user_id)].index[0]\n",
        "    distances, indices = model.kneighbors([user_product_matrix.iloc[user_index]], n_neighbors=3)\n",
        "    recommended_products = df.iloc[indices[0]][\"product_id\"].tolist()\n",
        "    return recommended_products\n",
        "\n",
        "# Read user input\n",
        "user_id = sys.argv[1]\n",
        "print(recommend_products(user_id))\n"
      ],
      "metadata": {
        "id": "lGuyBYQOjP1v"
      },
      "execution_count": null,
      "outputs": []
    },
    {
      "cell_type": "code",
      "source": [
        "import pandas as pd\n",
        "import numpy as np\n",
        "import sys\n",
        "from sklearn.neighbors import NearestNeighbors\n",
        "import joblib\n",
        "\n",
        "# Load dataset\n",
        "df = pd.read_csv(\"purchase_history.csv\")\n",
        "\n",
        "# Convert categorical data to numerical\n",
        "df[\"category\"] = df[\"category\"].astype(\"category\").cat.codes\n",
        "\n",
        "# Pivot table for user-product interaction\n",
        "user_product_matrix = df.pivot_table(index=\"user_id\", columns=\"product_id\", values=\"category\", fill_value=0)\n",
        "\n",
        "# Train KNN model\n",
        "model = NearestNeighbors(metric=\"cosine\", algorithm=\"brute\")\n",
        "model.fit(user_product_matrix)\n",
        "\n",
        "# Save model\n",
        "joblib.dump(model, \"knn_model.pkl\")\n",
        "\n",
        "# Function to recommend products\n",
        "def recommend_products(user_id):\n",
        "    user_index = df[df[\"user_id\"] == int(user_id)].index[0]\n",
        "    distances, indices = model.kneighbors([user_product_matrix.iloc[user_index]], n_neighbors=3)\n",
        "    recommended_products = df.iloc[indices[0]][\"product_id\"].tolist()\n",
        "    return recommended_products\n",
        "\n",
        "# Read user input\n",
        "user_id = sys.argv[1]\n",
        "print(recommend_products(user_id))\n"
      ],
      "metadata": {
        "id": "X-LEQw0ZjWXK"
      },
      "execution_count": null,
      "outputs": []
    }
  ]
}